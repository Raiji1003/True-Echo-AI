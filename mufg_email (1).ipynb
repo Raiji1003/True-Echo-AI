{
  "nbformat": 4,
  "nbformat_minor": 0,
  "metadata": {
    "colab": {
      "provenance": []
    },
    "kernelspec": {
      "name": "python3",
      "display_name": "Python 3"
    },
    "language_info": {
      "name": "python"
    }
  },
  "cells": [
    {
      "cell_type": "code",
      "source": [
        "import pandas as pd\n",
        "import matplotlib.pyplot as plt\n",
        "import seaborn as sns\n",
        "import nltk\n",
        "import re"
      ],
      "metadata": {
        "id": "dnuoGCk0valK"
      },
      "execution_count": null,
      "outputs": []
    },
    {
      "cell_type": "code",
      "source": [
        "from sklearn.model_selection import train_test_split\n",
        "from sklearn.feature_extraction.text import TfidfVectorizer\n",
        "from sklearn.metrics import accuracy_score, confusion_matrix, classification_report"
      ],
      "metadata": {
        "id": "r77QW-nix8p7"
      },
      "execution_count": null,
      "outputs": []
    },
    {
      "cell_type": "code",
      "source": [
        "from sklearn.pipeline import Pipeline\n",
        "\n",
        "from imblearn.pipeline import Pipeline as ImbPipeline\n",
        "from imblearn.under_sampling import RandomUnderSampler"
      ],
      "metadata": {
        "id": "qrnJY__aszJc"
      },
      "execution_count": null,
      "outputs": []
    },
    {
      "cell_type": "code",
      "source": [
        "nltk.download(\"stopwords\") #stopwords"
      ],
      "metadata": {
        "colab": {
          "base_uri": "https://localhost:8080/"
        },
        "id": "dnc3nEEQyEN6",
        "outputId": "ada5f3db-2df1-4b69-98d0-5f2b26fd09d5"
      },
      "execution_count": null,
      "outputs": [
        {
          "output_type": "stream",
          "name": "stderr",
          "text": [
            "[nltk_data] Downloading package stopwords to /root/nltk_data...\n",
            "[nltk_data]   Unzipping corpora/stopwords.zip.\n"
          ]
        },
        {
          "output_type": "execute_result",
          "data": {
            "text/plain": [
              "True"
            ]
          },
          "metadata": {},
          "execution_count": 4
        }
      ]
    },
    {
      "cell_type": "code",
      "source": [
        "from google.colab import drive\n",
        "drive.mount('/content/drive')"
      ],
      "metadata": {
        "colab": {
          "base_uri": "https://localhost:8080/"
        },
        "id": "u3A0Sx-FTbwK",
        "outputId": "65f89f04-bc62-4b66-b595-61db6a2a009f"
      },
      "execution_count": null,
      "outputs": [
        {
          "output_type": "stream",
          "name": "stdout",
          "text": [
            "Mounted at /content/drive\n"
          ]
        }
      ]
    },
    {
      "cell_type": "code",
      "source": [
        "import os\n",
        "folder_path = \"/content/drive/MyDrive/mufg\"\n",
        "\n",
        "csv_files = [f for f in os.listdir(folder_path) if f.endswith(\".csv\")]\n",
        "\n",
        "spam_nonspam_counts = {}\n",
        "datasets = {}\n",
        "\n",
        "for file in csv_files:\n",
        "    file_path = os.path.join(folder_path, file)\n",
        "    try:\n",
        "        df = pd.read_csv(file_path)\n",
        "        df.columns = [c.strip().lower() for c in df.columns]  # clean column names\n",
        "        datasets[file] = df\n",
        "\n",
        "        # Detect label column\n",
        "        label_col = next((c for c in df.columns if 'label' in c), None)\n",
        "        if label_col:\n",
        "            spam_count = df[df[label_col] == 1].shape[0]\n",
        "            non_spam_count = df[df[label_col] == 0].shape[0]\n",
        "        else:\n",
        "            spam_count = df.shape[0]  # all considered spam\n",
        "            non_spam_count = 0\n",
        "\n",
        "        spam_nonspam_counts[file] = {'spam_count': spam_count, 'non_spam_count': non_spam_count}\n",
        "        print(f\"{file}: {spam_count} spam, {non_spam_count} non-spam\")\n",
        "\n",
        "    except Exception as e:\n",
        "        print(f\"Error loading {file}: {e}\")"
      ],
      "metadata": {
        "id": "ZmsG3YpaPUCd",
        "colab": {
          "base_uri": "https://localhost:8080/"
        },
        "outputId": "6847002f-8fe6-4bd6-9ce5-2441cddbafbc"
      },
      "execution_count": null,
      "outputs": [
        {
          "output_type": "stream",
          "name": "stdout",
          "text": [
            "Nigerian_Fraud.csv: 3332 spam, 0 non-spam\n",
            "Nazario.csv: 1565 spam, 0 non-spam\n",
            "phishing_email.csv: 42891 spam, 39595 non-spam\n",
            "Ling.csv: 458 spam, 2401 non-spam\n",
            "Enron.csv: 13976 spam, 15791 non-spam\n",
            "CEAS_08.csv: 21842 spam, 17312 non-spam\n",
            "SpamAssasin.csv: 1718 spam, 4091 non-spam\n"
          ]
        }
      ]
    },
    {
      "cell_type": "code",
      "source": [
        "combined_data = []\n",
        "\n",
        "for file, df in datasets.items():\n",
        "    # Detect text column\n",
        "    text_col = next((c for c in df.columns if 'text' in c or 'message' in c or 'content' in c or 'body' in c), None)\n",
        "\n",
        "    if text_col:\n",
        "        df_subset = df[[text_col]].copy()\n",
        "\n",
        "        # Add label column\n",
        "        label_col = next((c for c in df.columns if 'label' in c), None)\n",
        "        if label_col:\n",
        "            df_subset['label'] = df[label_col]\n",
        "        else:\n",
        "            df_subset['label'] = 1  # all spam if missing\n",
        "\n",
        "        # Rename and add source\n",
        "        df_subset.columns = ['text', 'label']\n",
        "        df_subset['source'] = file\n",
        "\n",
        "        combined_data.append(df_subset)\n",
        "        print(f\"Added {len(df_subset)} emails from {file}\")\n",
        "    else:\n",
        "        print(f\"Skipping {file}: No text column found\")\n"
      ],
      "metadata": {
        "colab": {
          "base_uri": "https://localhost:8080/"
        },
        "id": "5B5TyzvXdzRK",
        "outputId": "eb8d05ec-bf8a-411d-ec00-4f60f62d84f8"
      },
      "execution_count": null,
      "outputs": [
        {
          "output_type": "stream",
          "name": "stdout",
          "text": [
            "Added 3332 emails from Nigerian_Fraud.csv\n",
            "Added 1565 emails from Nazario.csv\n",
            "Added 82486 emails from phishing_email.csv\n",
            "Added 2859 emails from Ling.csv\n",
            "Added 29767 emails from Enron.csv\n",
            "Added 39154 emails from CEAS_08.csv\n",
            "Added 5809 emails from SpamAssasin.csv\n"
          ]
        }
      ]
    },
    {
      "cell_type": "code",
      "source": [
        "if combined_data:\n",
        "    combined_df = pd.concat(combined_data, ignore_index=True)\n",
        "    print(f\"\\nCombined dataset created with {len(combined_df)} emails\")\n",
        "else:\n",
        "    raise ValueError(\"No datasets with text content found!\")\n"
      ],
      "metadata": {
        "colab": {
          "base_uri": "https://localhost:8080/"
        },
        "id": "OGDzKxgzdpJO",
        "outputId": "d1177bd3-6cc1-4352-fba7-d238738da024"
      },
      "execution_count": null,
      "outputs": [
        {
          "output_type": "stream",
          "name": "stdout",
          "text": [
            "\n",
            "Combined dataset created with 164972 emails\n"
          ]
        }
      ]
    },
    {
      "cell_type": "code",
      "source": [
        "def preprocess_text(df):\n",
        "    df = df.copy()\n",
        "    df = df.dropna(subset=['text'])\n",
        "    df['text'] = df['text'].astype(str).str.lower().str.strip()\n",
        "    df = df[df['text'].str.len() > 0]\n",
        "    return df\n",
        "\n",
        "combined_df = preprocess_text(combined_df)\n",
        "print(f\"After preprocessing: {len(combined_df)} emails\")\n",
        "print(\"\\nClass distribution:\")\n",
        "print(combined_df['label'].value_counts())"
      ],
      "metadata": {
        "colab": {
          "base_uri": "https://localhost:8080/"
        },
        "id": "Mvbv9tJNcfE1",
        "outputId": "b9c55a8e-bb8c-4d76-8fef-8d3ea343d453"
      },
      "execution_count": null,
      "outputs": [
        {
          "output_type": "stream",
          "name": "stdout",
          "text": [
            "After preprocessing: 164966 emails\n",
            "\n",
            "Class distribution:\n",
            "label\n",
            "1    85776\n",
            "0    79190\n",
            "Name: count, dtype: int64\n"
          ]
        }
      ]
    },
    {
      "cell_type": "code",
      "source": [
        "spam_df = combined_df[combined_df['label'] == 1]\n",
        "non_spam_df = combined_df[combined_df['label'] == 0]\n",
        "\n",
        "if len(non_spam_df) > 0:\n",
        "    # Sample the smaller of len(spam_df) or len(non_spam_df)\n",
        "    sample_size = min(len(spam_df), len(non_spam_df))\n",
        "    non_spam_df = non_spam_df.sample(sample_size, random_state=42)\n",
        "else:\n",
        "    print(\"No non-spam emails found; using only spam emails for the dataset.\")\n",
        "\n",
        "df_balanced = pd.concat([spam_df, non_spam_df]).sample(frac=1, random_state=42)\n",
        "print(f\"\\nTotal samples after balancing: {len(df_balanced)}\")\n"
      ],
      "metadata": {
        "colab": {
          "base_uri": "https://localhost:8080/"
        },
        "id": "ZikdR0yOT4zb",
        "outputId": "08446bc3-04bc-4bd9-edf2-ed3e45bfa6d6"
      },
      "execution_count": null,
      "outputs": [
        {
          "output_type": "stream",
          "name": "stdout",
          "text": [
            "\n",
            "Total samples after balancing: 164966\n"
          ]
        }
      ]
    },
    {
      "cell_type": "code",
      "source": [
        "sns.countplot(data=df_balanced, x='label')\n",
        "plt.title(\"Balanced Spam vs Non-Spam Distribution\")\n",
        "plt.show()"
      ],
      "metadata": {
        "colab": {
          "base_uri": "https://localhost:8080/",
          "height": 472
        },
        "id": "hJk3xgI2Y_W9",
        "outputId": "9f8bcde4-8abf-4e2d-c404-9a62057352d9"
      },
      "execution_count": null,
      "outputs": [
        {
          "output_type": "display_data",
          "data": {
            "text/plain": [
              "<Figure size 640x480 with 1 Axes>"
            ],
            "image/png": "[encoded data removed]"
          },
          "metadata": {}
        }
      ]
    },
    {
      "cell_type": "code",
      "source": [
        "X = df_balanced['text']\n",
        "Y = df_balanced['label']"
      ],
      "metadata": {
        "id": "mdF223HuaeVp"
      },
      "execution_count": null,
      "outputs": []
    },
    {
      "cell_type": "code",
      "source": [
        "def create_svm_pipeline(use_undersampling=True, max_features=1000):\n",
        "    \"\"\"Create SVM pipeline with optional undersampling\"\"\"\n",
        "\n",
        "    if use_undersampling:\n",
        "        from imblearn.pipeline import Pipeline as ImbPipeline\n",
        "        from imblearn.under_sampling import RandomUnderSampler\n",
        "        from sklearn.feature_extraction.text import TfidfVectorizer\n",
        "        from sklearn.svm import SVC\n",
        "\n",
        "        pipeline = ImbPipeline([\n",
        "            ('tfidf', TfidfVectorizer(\n",
        "                max_features=max_features,\n",
        "                stop_words='english',\n",
        "                ngram_range=(1, 2),\n",
        "                min_df=2,\n",
        "                max_df=0.95,\n",
        "                lowercase=True,\n",
        "                strip_accents='unicode'\n",
        "            )),\n",
        "            ('undersampler', RandomUnderSampler(random_state=42)),\n",
        "            ('svm', SVC(\n",
        "                kernel='linear',\n",
        "                C=1.0,\n",
        "                probability=True,\n",
        "                random_state=42\n",
        "            ))\n",
        "        ])\n",
        "    else:\n",
        "        from sklearn.pipeline import Pipeline\n",
        "        from sklearn.feature_extraction.text import TfidfVectorizer\n",
        "        from sklearn.svm import SVC\n",
        "\n",
        "        pipeline = Pipeline([\n",
        "            ('tfidf', TfidfVectorizer(\n",
        "                max_features=max_features,\n",
        "                stop_words='english',\n",
        "                ngram_range=(1, 2),\n",
        "                min_df=2,\n",
        "                max_df=0.95,\n",
        "                lowercase=True,\n",
        "                strip_accents='unicode'\n",
        "            )),\n",
        "            ('svm', SVC(\n",
        "                kernel='linear',\n",
        "                C=1.0,\n",
        "                probability=True,\n",
        "                random_state=42\n",
        "            ))\n",
        "        ])\n",
        "\n",
        "    return pipeline\n"
      ],
      "metadata": {
        "id": "tO76gq6stn2Y"
      },
      "execution_count": null,
      "outputs": []
    },
    {
      "cell_type": "code",
      "source": [
        "pipeline = create_svm_pipeline(use_undersampling=False, max_features=1000)\n",
        "\n",
        "# Train/test split\n",
        "from sklearn.model_selection import train_test_split\n",
        "X_train, X_test, Y_train, Y_test = train_test_split(X, Y, test_size=0.2, random_state=42)"
      ],
      "metadata": {
        "id": "sMJdYvPitEa0"
      },
      "execution_count": null,
      "outputs": []
    },
    {
      "cell_type": "code",
      "source": [
        "pipeline.fit(X_train, Y_train)"
      ],
      "metadata": {
        "colab": {
          "base_uri": "https://localhost:8080/",
          "height": 155
        },
        "id": "biBXw7aLawi1",
        "outputId": "e2061a99-1f4c-4eeb-bd76-487b9b5b64a0"
      },
      "execution_count": null,
      "outputs": [
        {
          "output_type": "execute_result",
          "data": {
            "text/plain": [
              "Pipeline(steps=[('tfidf',\n",
              "                 TfidfVectorizer(max_df=0.95, max_features=1000, min_df=2,\n",
              "                                 ngram_range=(1, 2), stop_words='english',\n",
              "                                 strip_accents='unicode')),\n",
              "                ('svm',\n",
              "                 SVC(kernel='linear', probability=True, random_state=42))])"
            ],
            "text/html": [
              "<style>#sk-container-id-2 {\n",
              "  /* Definition of color scheme common for light and dark mode */\n",
              "  --sklearn-color-text: #000;\n",
              "  --sklearn-color-text-muted: #666;\n",
              "  --sklearn-color-line: gray;\n",
              "  /* Definition of color scheme for unfitted estimators */\n",
              "  --sklearn-color-unfitted-level-0: #fff5e6;\n",
              "  --sklearn-color-unfitted-level-1: #f6e4d2;\n",
              "  --sklearn-color-unfitted-level-2: #ffe0b3;\n",
              "  --sklearn-color-unfitted-level-3: chocolate;\n",
              "  /* Definition of color scheme for fitted estimators */\n",
              "  --sklearn-color-fitted-level-0: #f0f8ff;\n",
              "  --sklearn-color-fitted-level-1: #d4ebff;\n",
              "  --sklearn-color-fitted-level-2: #b3dbfd;\n",
              "  --sklearn-color-fitted-level-3: cornflowerblue;\n",
              "\n",
              "  /* Specific color for light theme */\n",
              "  --sklearn-color-text-on-default-background: var(--sg-text-color, var(--theme-code-foreground, var(--jp-content-font-color1, black)));\n",
              "  --sklearn-color-background: var(--sg-background-color, var(--theme-background, var(--jp-layout-color0, white)));\n",
              "  --sklearn-color-border-box: var(--sg-text-color, var(--theme-code-foreground, var(--jp-content-font-color1, black)));\n",
              "  --sklearn-color-icon: #696969;\n",
              "\n",
              "  @media (prefers-color-scheme: dark) {\n",
              "    /* Redefinition of color scheme for dark theme */\n",
              "    --sklearn-color-text-on-default-background: var(--sg-text-color, var(--theme-code-foreground, var(--jp-content-font-color1, white)));\n",
              "    --sklearn-color-background: var(--sg-background-color, var(--theme-background, var(--jp-layout-color0, #111)));\n",
              "    --sklearn-color-border-box: var(--sg-text-color, var(--theme-code-foreground, var(--jp-content-font-color1, white)));\n",
              "    --sklearn-color-icon: #878787;\n",
              "  }\n",
              "}\n",
              "\n",
              "#sk-container-id-2 {\n",
              "  color: var(--sklearn-color-text);\n",
              "}\n",
              "\n",
              "#sk-container-id-2 pre {\n",
              "  padding: 0;\n",
              "}\n",
              "\n",
              "#sk-container-id-2 input.sk-hidden--visually {\n",
              "  border: 0;\n",
              "  clip: rect(1px 1px 1px 1px);\n",
              "  clip: rect(1px, 1px, 1px, 1px);\n",
              "  height: 1px;\n",
              "  margin: -1px;\n",
              "  overflow: hidden;\n",
              "  padding: 0;\n",
              "  position: absolute;\n",
              "  width: 1px;\n",
              "}\n",
              "\n",
              "#sk-container-id-2 div.sk-dashed-wrapped {\n",
              "  border: 1px dashed var(--sklearn-color-line);\n",
              "  margin: 0 0.4em 0.5em 0.4em;\n",
              "  box-sizing: border-box;\n",
              "  padding-bottom: 0.4em;\n",
              "  background-color: var(--sklearn-color-background);\n",
              "}\n",
              "\n",
              "#sk-container-id-2 div.sk-container {\n",
              "  /* jupyter's `normalize.less` sets `[hidden] { display: none; }`\n",
              "     but bootstrap.min.css set `[hidden] { display: none !important; }`\n",
              "     so we also need the `!important` here to be able to override the\n",
              "     default hidden behavior on the sphinx rendered scikit-learn.org.\n",
              "     See: https://github.com/scikit-learn/scikit-learn/issues/21755 */\n",
              "  display: inline-block !important;\n",
              "  position: relative;\n",
              "}\n",
              "\n",
              "#sk-container-id-2 div.sk-text-repr-fallback {\n",
              "  display: none;\n",
              "}\n",
              "\n",
              "div.sk-parallel-item,\n",
              "div.sk-serial,\n",
              "div.sk-item {\n",
              "  /* draw centered vertical line to link estimators */\n",
              "  background-image: linear-gradient(var(--sklearn-color-text-on-default-background), var(--sklearn-color-text-on-default-background));\n",
              "  background-size: 2px 100%;\n",
              "  background-repeat: no-repeat;\n",
              "  background-position: center center;\n",
              "}\n",
              "\n",
              "/* Parallel-specific style estimator block */\n",
              "\n",
              "#sk-container-id-2 div.sk-parallel-item::after {\n",
              "  content: \"\";\n",
              "  width: 100%;\n",
              "  border-bottom: 2px solid var(--sklearn-color-text-on-default-background);\n",
              "  flex-grow: 1;\n",
              "}\n",
              "\n",
              "#sk-container-id-2 div.sk-parallel {\n",
              "  display: flex;\n",
              "  align-items: stretch;\n",
              "  justify-content: center;\n",
              "  background-color: var(--sklearn-color-background);\n",
              "  position: relative;\n",
              "}\n",
              "\n",
              "#sk-container-id-2 div.sk-parallel-item {\n",
              "  display: flex;\n",
              "  flex-direction: column;\n",
              "}\n",
              "\n",
              "#sk-container-id-2 div.sk-parallel-item:first-child::after {\n",
              "  align-self: flex-end;\n",
              "  width: 50%;\n",
              "}\n",
              "\n",
              "#sk-container-id-2 div.sk-parallel-item:last-child::after {\n",
              "  align-self: flex-start;\n",
              "  width: 50%;\n",
              "}\n",
              "\n",
              "#sk-container-id-2 div.sk-parallel-item:only-child::after {\n",
              "  width: 0;\n",
              "}\n",
              "\n",
              "/* Serial-specific style estimator block */\n",
              "\n",
              "#sk-container-id-2 div.sk-serial {\n",
              "  display: flex;\n",
              "  flex-direction: column;\n",
              "  align-items: center;\n",
              "  background-color: var(--sklearn-color-background);\n",
              "  padding-right: 1em;\n",
              "  padding-left: 1em;\n",
              "}\n",
              "\n",
              "\n",
              "/* Toggleable style: style used for estimator/Pipeline/ColumnTransformer box that is\n",
              "clickable and can be expanded/collapsed.\n",
              "- Pipeline and ColumnTransformer use this feature and define the default style\n",
              "- Estimators will overwrite some part of the style using the `sk-estimator` class\n",
              "*/\n",
              "\n",
              "/* Pipeline and ColumnTransformer style (default) */\n",
              "\n",
              "#sk-container-id-2 div.sk-toggleable {\n",
              "  /* Default theme specific background. It is overwritten whether we have a\n",
              "  specific estimator or a Pipeline/ColumnTransformer */\n",
              "  background-color: var(--sklearn-color-background);\n",
              "}\n",
              "\n",
              "/* Toggleable label */\n",
              "#sk-container-id-2 label.sk-toggleable__label {\n",
              "  cursor: pointer;\n",
              "  display: flex;\n",
              "  width: 100%;\n",
              "  margin-bottom: 0;\n",
              "  padding: 0.5em;\n",
              "  box-sizing: border-box;\n",
              "  text-align: center;\n",
              "  align-items: start;\n",
              "  justify-content: space-between;\n",
              "  gap: 0.5em;\n",
              "}\n",
              "\n",
              "#sk-container-id-2 label.sk-toggleable__label .caption {\n",
              "  font-size: 0.6rem;\n",
              "  font-weight: lighter;\n",
              "  color: var(--sklearn-color-text-muted);\n",
              "}\n",
              "\n",
              "#sk-container-id-2 label.sk-toggleable__label-arrow:before {\n",
              "  /* Arrow on the left of the label */\n",
              "  content: \"▸\";\n",
              "  float: left;\n",
              "  margin-right: 0.25em;\n",
              "  color: var(--sklearn-color-icon);\n",
              "}\n",
              "\n",
              "#sk-container-id-2 label.sk-toggleable__label-arrow:hover:before {\n",
              "  color: var(--sklearn-color-text);\n",
              "}\n",
              "\n",
              "/* Toggleable content - dropdown */\n",
              "\n",
              "#sk-container-id-2 div.sk-toggleable__content {\n",
              "  max-height: 0;\n",
              "  max-width: 0;\n",
              "  overflow: hidden;\n",
              "  text-align: left;\n",
              "  /* unfitted */\n",
              "  background-color: var(--sklearn-color-unfitted-level-0);\n",
              "}\n",
              "\n",
              "#sk-container-id-2 div.sk-toggleable__content.fitted {\n",
              "  /* fitted */\n",
              "  background-color: var(--sklearn-color-fitted-level-0);\n",
              "}\n",
              "\n",
              "#sk-container-id-2 div.sk-toggleable__content pre {\n",
              "  margin: 0.2em;\n",
              "  border-radius: 0.25em;\n",
              "  color: var(--sklearn-color-text);\n",
              "  /* unfitted */\n",
              "  background-color: var(--sklearn-color-unfitted-level-0);\n",
              "}\n",
              "\n",
              "#sk-container-id-2 div.sk-toggleable__content.fitted pre {\n",
              "  /* unfitted */\n",
              "  background-color: var(--sklearn-color-fitted-level-0);\n",
              "}\n",
              "\n",
              "#sk-container-id-2 input.sk-toggleable__control:checked~div.sk-toggleable__content {\n",
              "  /* Expand drop-down */\n",
              "  max-height: 200px;\n",
              "  max-width: 100%;\n",
              "  overflow: auto;\n",
              "}\n",
              "\n",
              "#sk-container-id-2 input.sk-toggleable__control:checked~label.sk-toggleable__label-arrow:before {\n",
              "  content: \"▾\";\n",
              "}\n",
              "\n",
              "/* Pipeline/ColumnTransformer-specific style */\n",
              "\n",
              "#sk-container-id-2 div.sk-label input.sk-toggleable__control:checked~label.sk-toggleable__label {\n",
              "  color: var(--sklearn-color-text);\n",
              "  background-color: var(--sklearn-color-unfitted-level-2);\n",
              "}\n",
              "\n",
              "#sk-container-id-2 div.sk-label.fitted input.sk-toggleable__control:checked~label.sk-toggleable__label {\n",
              "  background-color: var(--sklearn-color-fitted-level-2);\n",
              "}\n",
              "\n",
              "/* Estimator-specific style */\n",
              "\n",
              "/* Colorize estimator box */\n",
              "#sk-container-id-2 div.sk-estimator input.sk-toggleable__control:checked~label.sk-toggleable__label {\n",
              "  /* unfitted */\n",
              "  background-color: var(--sklearn-color-unfitted-level-2);\n",
              "}\n",
              "\n",
              "#sk-container-id-2 div.sk-estimator.fitted input.sk-toggleable__control:checked~label.sk-toggleable__label {\n",
              "  /* fitted */\n",
              "  background-color: var(--sklearn-color-fitted-level-2);\n",
              "}\n",
              "\n",
              "#sk-container-id-2 div.sk-label label.sk-toggleable__label,\n",
              "#sk-container-id-2 div.sk-label label {\n",
              "  /* The background is the default theme color */\n",
              "  color: var(--sklearn-color-text-on-default-background);\n",
              "}\n",
              "\n",
              "/* On hover, darken the color of the background */\n",
              "#sk-container-id-2 div.sk-label:hover label.sk-toggleable__label {\n",
              "  color: var(--sklearn-color-text);\n",
              "  background-color: var(--sklearn-color-unfitted-level-2);\n",
              "}\n",
              "\n",
              "/* Label box, darken color on hover, fitted */\n",
              "#sk-container-id-2 div.sk-label.fitted:hover label.sk-toggleable__label.fitted {\n",
              "  color: var(--sklearn-color-text);\n",
              "  background-color: var(--sklearn-color-fitted-level-2);\n",
              "}\n",
              "\n",
              "/* Estimator label */\n",
              "\n",
              "#sk-container-id-2 div.sk-label label {\n",
              "  font-family: monospace;\n",
              "  font-weight: bold;\n",
              "  display: inline-block;\n",
              "  line-height: 1.2em;\n",
              "}\n",
              "\n",
              "#sk-container-id-2 div.sk-label-container {\n",
              "  text-align: center;\n",
              "}\n",
              "\n",
              "/* Estimator-specific */\n",
              "#sk-container-id-2 div.sk-estimator {\n",
              "  font-family: monospace;\n",
              "  border: 1px dotted var(--sklearn-color-border-box);\n",
              "  border-radius: 0.25em;\n",
              "  box-sizing: border-box;\n",
              "  margin-bottom: 0.5em;\n",
              "  /* unfitted */\n",
              "  background-color: var(--sklearn-color-unfitted-level-0);\n",
              "}\n",
              "\n",
              "#sk-container-id-2 div.sk-estimator.fitted {\n",
              "  /* fitted */\n",
              "  background-color: var(--sklearn-color-fitted-level-0);\n",
              "}\n",
              "\n",
              "/* on hover */\n",
              "#sk-container-id-2 div.sk-estimator:hover {\n",
              "  /* unfitted */\n",
              "  background-color: var(--sklearn-color-unfitted-level-2);\n",
              "}\n",
              "\n",
              "#sk-container-id-2 div.sk-estimator.fitted:hover {\n",
              "  /* fitted */\n",
              "  background-color: var(--sklearn-color-fitted-level-2);\n",
              "}\n",
              "\n",
              "/* Specification for estimator info (e.g. \"i\" and \"?\") */\n",
              "\n",
              "/* Common style for \"i\" and \"?\" */\n",
              "\n",
              ".sk-estimator-doc-link,\n",
              "a:link.sk-estimator-doc-link,\n",
              "a:visited.sk-estimator-doc-link {\n",
              "  float: right;\n",
              "  font-size: smaller;\n",
              "  line-height: 1em;\n",
              "  font-family: monospace;\n",
              "  background-color: var(--sklearn-color-background);\n",
              "  border-radius: 1em;\n",
              "  height: 1em;\n",
              "  width: 1em;\n",
              "  text-decoration: none !important;\n",
              "  margin-left: 0.5em;\n",
              "  text-align: center;\n",
              "  /* unfitted */\n",
              "  border: var(--sklearn-color-unfitted-level-1) 1pt solid;\n",
              "  color: var(--sklearn-color-unfitted-level-1);\n",
              "}\n",
              "\n",
              ".sk-estimator-doc-link.fitted,\n",
              "a:link.sk-estimator-doc-link.fitted,\n",
              "a:visited.sk-estimator-doc-link.fitted {\n",
              "  /* fitted */\n",
              "  border: var(--sklearn-color-fitted-level-1) 1pt solid;\n",
              "  color: var(--sklearn-color-fitted-level-1);\n",
              "}\n",
              "\n",
              "/* On hover */\n",
              "div.sk-estimator:hover .sk-estimator-doc-link:hover,\n",
              ".sk-estimator-doc-link:hover,\n",
              "div.sk-label-container:hover .sk-estimator-doc-link:hover,\n",
              ".sk-estimator-doc-link:hover {\n",
              "  /* unfitted */\n",
              "  background-color: var(--sklearn-color-unfitted-level-3);\n",
              "  color: var(--sklearn-color-background);\n",
              "  text-decoration: none;\n",
              "}\n",
              "\n",
              "div.sk-estimator.fitted:hover .sk-estimator-doc-link.fitted:hover,\n",
              ".sk-estimator-doc-link.fitted:hover,\n",
              "div.sk-label-container:hover .sk-estimator-doc-link.fitted:hover,\n",
              ".sk-estimator-doc-link.fitted:hover {\n",
              "  /* fitted */\n",
              "  background-color: var(--sklearn-color-fitted-level-3);\n",
              "  color: var(--sklearn-color-background);\n",
              "  text-decoration: none;\n",
              "}\n",
              "\n",
              "/* Span, style for the box shown on hovering the info icon */\n",
              ".sk-estimator-doc-link span {\n",
              "  display: none;\n",
              "  z-index: 9999;\n",
              "  position: relative;\n",
              "  font-weight: normal;\n",
              "  right: .2ex;\n",
              "  padding: .5ex;\n",
              "  margin: .5ex;\n",
              "  width: min-content;\n",
              "  min-width: 20ex;\n",
              "  max-width: 50ex;\n",
              "  color: var(--sklearn-color-text);\n",
              "  box-shadow: 2pt 2pt 4pt #999;\n",
              "  /* unfitted */\n",
              "  background: var(--sklearn-color-unfitted-level-0);\n",
              "  border: .5pt solid var(--sklearn-color-unfitted-level-3);\n",
              "}\n",
              "\n",
              ".sk-estimator-doc-link.fitted span {\n",
              "  /* fitted */\n",
              "  background: var(--sklearn-color-fitted-level-0);\n",
              "  border: var(--sklearn-color-fitted-level-3);\n",
              "}\n",
              "\n",
              ".sk-estimator-doc-link:hover span {\n",
              "  display: block;\n",
              "}\n",
              "\n",
              "/* \"?\"-specific style due to the `<a>` HTML tag */\n",
              "\n",
              "#sk-container-id-2 a.estimator_doc_link {\n",
              "  float: right;\n",
              "  font-size: 1rem;\n",
              "  line-height: 1em;\n",
              "  font-family: monospace;\n",
              "  background-color: var(--sklearn-color-background);\n",
              "  border-radius: 1rem;\n",
              "  height: 1rem;\n",
              "  width: 1rem;\n",
              "  text-decoration: none;\n",
              "  /* unfitted */\n",
              "  color: var(--sklearn-color-unfitted-level-1);\n",
              "  border: var(--sklearn-color-unfitted-level-1) 1pt solid;\n",
              "}\n",
              "\n",
              "#sk-container-id-2 a.estimator_doc_link.fitted {\n",
              "  /* fitted */\n",
              "  border: var(--sklearn-color-fitted-level-1) 1pt solid;\n",
              "  color: var(--sklearn-color-fitted-level-1);\n",
              "}\n",
              "\n",
              "/* On hover */\n",
              "#sk-container-id-2 a.estimator_doc_link:hover {\n",
              "  /* unfitted */\n",
              "  background-color: var(--sklearn-color-unfitted-level-3);\n",
              "  color: var(--sklearn-color-background);\n",
              "  text-decoration: none;\n",
              "}\n",
              "\n",
              "#sk-container-id-2 a.estimator_doc_link.fitted:hover {\n",
              "  /* fitted */\n",
              "  background-color: var(--sklearn-color-fitted-level-3);\n",
              "}\n",
              "</style><div id=\"sk-container-id-2\" class=\"sk-top-container\"><div class=\"sk-text-repr-fallback\"><pre>Pipeline(steps=[(&#x27;tfidf&#x27;,\n",
              "                 TfidfVectorizer(max_df=0.95, max_features=1000, min_df=2,\n",
              "                                 ngram_range=(1, 2), stop_words=&#x27;english&#x27;,\n",
              "                                 strip_accents=&#x27;unicode&#x27;)),\n",
              "                (&#x27;svm&#x27;,\n",
              "                 SVC(kernel=&#x27;linear&#x27;, probability=True, random_state=42))])</pre><b>In a Jupyter environment, please rerun this cell to show the HTML representation or trust the notebook. <br />On GitHub, the HTML representation is unable to render, please try loading this page with nbviewer.org.</b></div><div class=\"sk-container\" hidden><div class=\"sk-item sk-dashed-wrapped\"><div class=\"sk-label-container\"><div class=\"sk-label fitted sk-toggleable\"><input class=\"sk-toggleable__control sk-hidden--visually\" id=\"sk-estimator-id-4\" type=\"checkbox\" ><label for=\"sk-estimator-id-4\" class=\"sk-toggleable__label fitted sk-toggleable__label-arrow\"><div><div>Pipeline</div></div><div><a class=\"sk-estimator-doc-link fitted\" rel=\"noreferrer\" target=\"_blank\" href=\"https://scikit-learn.org/1.6/modules/generated/sklearn.pipeline.Pipeline.html\">?<span>Documentation for Pipeline</span></a><span class=\"sk-estimator-doc-link fitted\">i<span>Fitted</span></span></div></label><div class=\"sk-toggleable__content fitted\"><pre>Pipeline(steps=[(&#x27;tfidf&#x27;,\n",
              "                 TfidfVectorizer(max_df=0.95, max_features=1000, min_df=2,\n",
              "                                 ngram_range=(1, 2), stop_words=&#x27;english&#x27;,\n",
              "                                 strip_accents=&#x27;unicode&#x27;)),\n",
              "                (&#x27;svm&#x27;,\n",
              "                 SVC(kernel=&#x27;linear&#x27;, probability=True, random_state=42))])</pre></div> </div></div><div class=\"sk-serial\"><div class=\"sk-item\"><div class=\"sk-estimator fitted sk-toggleable\"><input class=\"sk-toggleable__control sk-hidden--visually\" id=\"sk-estimator-id-5\" type=\"checkbox\" ><label for=\"sk-estimator-id-5\" class=\"sk-toggleable__label fitted sk-toggleable__label-arrow\"><div><div>TfidfVectorizer</div></div><div><a class=\"sk-estimator-doc-link fitted\" rel=\"noreferrer\" target=\"_blank\" href=\"https://scikit-learn.org/1.6/modules/generated/sklearn.feature_extraction.text.TfidfVectorizer.html\">?<span>Documentation for TfidfVectorizer</span></a></div></label><div class=\"sk-toggleable__content fitted\"><pre>TfidfVectorizer(max_df=0.95, max_features=1000, min_df=2, ngram_range=(1, 2),\n",
              "                stop_words=&#x27;english&#x27;, strip_accents=&#x27;unicode&#x27;)</pre></div> </div></div><div class=\"sk-item\"><div class=\"sk-estimator fitted sk-toggleable\"><input class=\"sk-toggleable__control sk-hidden--visually\" id=\"sk-estimator-id-6\" type=\"checkbox\" ><label for=\"sk-estimator-id-6\" class=\"sk-toggleable__label fitted sk-toggleable__label-arrow\"><div><div>SVC</div></div><div><a class=\"sk-estimator-doc-link fitted\" rel=\"noreferrer\" target=\"_blank\" href=\"https://scikit-learn.org/1.6/modules/generated/sklearn.svm.SVC.html\">?<span>Documentation for SVC</span></a></div></label><div class=\"sk-toggleable__content fitted\"><pre>SVC(kernel=&#x27;linear&#x27;, probability=True, random_state=42)</pre></div> </div></div></div></div></div></div>"
            ]
          },
          "metadata": {},
          "execution_count": 26
        }
      ]
    },
    {
      "cell_type": "code",
      "source": [
        "train_pred = pipeline.predict(X_train)\n",
        "test_pred = pipeline.predict(X_test)"
      ],
      "metadata": {
        "id": "8bJAHPaii_0C"
      },
      "execution_count": null,
      "outputs": []
    },
    {
      "cell_type": "code",
      "source": [
        "print(\"Training accuracy:\", accuracy_score(Y_train, train_pred))\n",
        "print(\"Testing accuracy:\", accuracy_score(Y_test, test_pred))"
      ],
      "metadata": {
        "colab": {
          "base_uri": "https://localhost:8080/"
        },
        "id": "ohnSSDd7jdrz",
        "outputId": "fe278cb5-c065-417d-e204-39998225e874"
      },
      "execution_count": null,
      "outputs": [
        {
          "output_type": "stream",
          "name": "stdout",
          "text": [
            "Training accuracy: 0.9647728306004304\n",
            "Testing accuracy: 0.9640237618961023\n"
          ]
        }
      ]
    },
    {
      "cell_type": "code",
      "source": [
        "cm = confusion_matrix(Y_test, test_pred)\n",
        "import seaborn as sns\n",
        "import matplotlib.pyplot as plt\n",
        "sns.heatmap(cm, annot=True, fmt='d', cmap='Blues')\n",
        "plt.title(\"Confusion Matrix\")\n",
        "plt.xlabel(\"Predicted\")\n",
        "plt.ylabel(\"Actual\")\n",
        "plt.show()"
      ],
      "metadata": {
        "colab": {
          "base_uri": "https://localhost:8080/",
          "height": 472
        },
        "id": "nwXuoBuN-4s8",
        "outputId": "f3a626e5-44ea-4cbd-9af0-aa23c8bdfbc1"
      },
      "execution_count": null,
      "outputs": [
        {
          "output_type": "display_data",
          "data": {
            "text/plain": [
              "<Figure size 640x480 with 2 Axes>"
            ],
            "image/png": "[encoded data removed]"
          },
          "metadata": {}
        }
      ]
    },
    {
      "cell_type": "code",
      "source": [
        "report = classification_report(Y_test, test_pred)\n",
        "print(report)"
      ],
      "metadata": {
        "colab": {
          "base_uri": "https://localhost:8080/"
        },
        "id": "O72Tjbme-76o",
        "outputId": "356f56c5-a3a2-4c3f-8a74-8bc2d8113d50"
      },
      "execution_count": null,
      "outputs": [
        {
          "output_type": "stream",
          "name": "stdout",
          "text": [
            "              precision    recall  f1-score   support\n",
            "\n",
            "           0       0.97      0.95      0.96     15791\n",
            "           1       0.96      0.97      0.97     17203\n",
            "\n",
            "    accuracy                           0.96     32994\n",
            "   macro avg       0.96      0.96      0.96     32994\n",
            "weighted avg       0.96      0.96      0.96     32994\n",
            "\n"
          ]
        }
      ]
    },
    {
      "cell_type": "code",
      "source": [
        "sample_emails = [\n",
        "    \"Congratulations!!! You have won $1,000,000 in our lottery! Click here to claim your prize immediately!\",\n",
        "    \"Hey there Sneha, can you please send me the report by tomorrow? Thanks!\",\n",
        "    \"\"\"Hello Students,\n",
        "    You’ve been shortlisted for the 2025 Accenture Verified Training and Internship Program.\n",
        "    This initiative provides guidance on resumes, interviews, and placements with industry-leading companies.\n",
        "\n",
        "    To move forward, please complete the registration steps before the deadline.\n",
        "\n",
        "    Dear Students,\n",
        "    We are delighted to announce an exclusive collaboration with leading multinational companies,\n",
        "    including Accenture, Wipro, IBM, Microsoft, Deloitte, EY, Cisco, Cognizant, Barclays, Infosys, Genpact, Oracle, TCS, PwC, J.P. Morgan, Amazon, Accenture, HCL Technologies, Tech Mahindra, and many more.\n",
        "\n",
        "    Join us for a comprehensive 3-month Training, Internship, and Placement Program designed to equip you with essential industry skills and enhance your career prospects. Led by industry experts with over 10+ years of experience, this program provides a structured learning experience, hands-on exposure, and placement opportunities in top organizations.\n",
        "\n",
        "    Program Overview\n",
        "    Month 1: Practical Learning & Industry Training\n",
        "        - Participate in interactive live sessions covering both fundamental and advanced industry topics led by professionals.\n",
        "        - Engage in live discussions, hands-on exercises, and personalized doubt-clearing sessions to strengthen conceptual understanding.\n",
        "        - Classes conducted Monday to Friday via Zoom or Google Meet, ensuring accessibility and flexibility.\n",
        "\n",
        "    Month 2: Internship & Project-Based Learning\n",
        "        - Gain practical exposure by working on real-world projects under the mentorship of industry experts.\n",
        "        - Complete a minor individual project (1 week) followed by a major group project (3 weeks), allowing for skill application in a collaborative environment.\n",
        "\n",
        "    Month 3: Placement Assistance & Job Readiness\n",
        "        - Receive comprehensive placement support, including mock interviews, group discussions, resume-building workshops, and communication skill enhancement sessions.\n",
        "        - Benefit from personalized career guidance to improve your job search strategy and increase your chances of securing a placement.\n",
        "\n",
        "    Certificates Awarded\n",
        "        - Internship Completion Certificate (Accenture Certified)\n",
        "        - Course Completion Certificate (ISO Certified)\n",
        "        - Letter of Recommendation (LOR) from leading multinational companies\n",
        "        - Certificate of Excellence for outstanding performers\n",
        "\n",
        "    Important Note: Training fees are applicable.\n",
        "    This program is an Industrial Training and Professional Upskilling initiative designed to enhance career prospects through hands-on projects with multinational corporations (MNCs).\n",
        "    A training fee is required to access the full benefits, including expert-led sessions, practical learning experiences, and placement support.\"\"\"\n",
        "]\n",
        "\n",
        "print(\"Testing with sample emails:\")\n",
        "print(\"=\" * 80)\n",
        "\n",
        "for i, email in enumerate(sample_emails, 1):\n",
        "    pred = pipeline.predict([email])[0]\n",
        "    proba = pipeline.predict_proba([email])[0]\n",
        "\n",
        "    print(f\"\\nEmail {i}:\")\n",
        "    print(f\"Text: {email}\")\n",
        "    print(f\"Prediction: {'SPAM' if pred == 1 else 'NON-SPAM'}\")\n",
        "    print(f\"Probability of SPAM: {proba[1]:.4f}\")   # index 1 = spam prob\n",
        "    print(f\"Probability of NON-SPAM: {proba[0]:.4f}\")\n",
        "    print(\"-\" * 80)"
      ],
      "metadata": {
        "colab": {
          "base_uri": "https://localhost:8080/"
        },
        "id": "PpkPHXnABP1u",
        "outputId": "a2b0fedd-699a-4edf-db71-449a685a5a10"
      },
      "execution_count": null,
      "outputs": [
        {
          "output_type": "stream",
          "name": "stdout",
          "text": [
            "Testing with sample emails:\n",
            "================================================================================\n",
            "\n",
            "Email 1:\n",
            "Text: Congratulations!!! You have won $1,000,000 in our lottery! Click here to claim your prize immediately!\n",
            "Prediction: SPAM\n",
            "Probability of SPAM: 1.0000\n",
            "Probability of NON-SPAM: 0.0000\n",
            "--------------------------------------------------------------------------------\n",
            "\n",
            "Email 2:\n",
            "Text: Hey there Sneha, can you please send me the report by tomorrow? Thanks!\n",
            "Prediction: NON-SPAM\n",
            "Probability of SPAM: 0.0454\n",
            "Probability of NON-SPAM: 0.9546\n",
            "--------------------------------------------------------------------------------\n",
            "\n",
            "Email 3:\n",
            "Text: Hello Students,\n",
            "    You’ve been shortlisted for the 2025 Accenture Verified Training and Internship Program.\n",
            "    This initiative provides guidance on resumes, interviews, and placements with industry-leading companies.\n",
            "\n",
            "    To move forward, please complete the registration steps before the deadline.\n",
            "\n",
            "    Dear Students,\n",
            "    We are delighted to announce an exclusive collaboration with leading multinational companies,\n",
            "    including Accenture, Wipro, IBM, Microsoft, Deloitte, EY, Cisco, Cognizant, Barclays, Infosys, Genpact, Oracle, TCS, PwC, J.P. Morgan, Amazon, Accenture, HCL Technologies, Tech Mahindra, and many more.\n",
            "\n",
            "    Join us for a comprehensive 3-month Training, Internship, and Placement Program designed to equip you with essential industry skills and enhance your career prospects. Led by industry experts with over 10+ years of experience, this program provides a structured learning experience, hands-on exposure, and placement opportunities in top organizations.\n",
            "\n",
            "    Program Overview\n",
            "    Month 1: Practical Learning & Industry Training\n",
            "        - Participate in interactive live sessions covering both fundamental and advanced industry topics led by professionals.\n",
            "        - Engage in live discussions, hands-on exercises, and personalized doubt-clearing sessions to strengthen conceptual understanding.\n",
            "        - Classes conducted Monday to Friday via Zoom or Google Meet, ensuring accessibility and flexibility.\n",
            "\n",
            "    Month 2: Internship & Project-Based Learning\n",
            "        - Gain practical exposure by working on real-world projects under the mentorship of industry experts.\n",
            "        - Complete a minor individual project (1 week) followed by a major group project (3 weeks), allowing for skill application in a collaborative environment.\n",
            "\n",
            "    Month 3: Placement Assistance & Job Readiness\n",
            "        - Receive comprehensive placement support, including mock interviews, group discussions, resume-building workshops, and communication skill enhancement sessions.\n",
            "        - Benefit from personalized career guidance to improve your job search strategy and increase your chances of securing a placement.\n",
            "\n",
            "    Certificates Awarded\n",
            "        - Internship Completion Certificate (Accenture Certified)\n",
            "        - Course Completion Certificate (ISO Certified)\n",
            "        - Letter of Recommendation (LOR) from leading multinational companies\n",
            "        - Certificate of Excellence for outstanding performers\n",
            "\n",
            "    Important Note: Training fees are applicable.\n",
            "    This program is an Industrial Training and Professional Upskilling initiative designed to enhance career prospects through hands-on projects with multinational corporations (MNCs).\n",
            "    A training fee is required to access the full benefits, including expert-led sessions, practical learning experiences, and placement support.\n",
            "Prediction: SPAM\n",
            "Probability of SPAM: 0.6654\n",
            "Probability of NON-SPAM: 0.3346\n",
            "--------------------------------------------------------------------------------\n"
          ]
        }
      ]
    },
    {
      "cell_type": "code",
      "source": [
        "import joblib\n",
        "\n",
        "# Save the trained pipeline (includes TF-IDF + SVM)\n",
        "joblib.dump(pipeline, \"email_pipeline.pkl\")\n",
        "\n",
        "print(\"Model saved as 'email_pipeline.pkl'\")"
      ],
      "metadata": {
        "id": "0GVBkeTlBvR0",
        "colab": {
          "base_uri": "https://localhost:8080/"
        },
        "outputId": "f6553f0e-15bf-424e-c8bc-1e8f649468d4"
      },
      "execution_count": null,
      "outputs": [
        {
          "output_type": "stream",
          "name": "stdout",
          "text": [
            "Model saved as 'email_pipeline.pkl'\n"
          ]
        }
      ]
    },
    {
      "cell_type": "code",
      "source": [
        "from google.colab import drive\n",
        "import joblib\n",
        "\n",
        "drive.mount('/content/drive')\n",
        "joblib.dump(pipeline, \"/content/drive/MyDrive/mufg/email_pipeline.pkl\")\n"
      ],
      "metadata": {
        "colab": {
          "base_uri": "https://localhost:8080/"
        },
        "id": "oLZiLH_BBSVY",
        "outputId": "96438c38-59c5-4278-b1da-5d0037db6f90"
      },
      "execution_count": null,
      "outputs": [
        {
          "output_type": "stream",
          "name": "stdout",
          "text": [
            "Drive already mounted at /content/drive; to attempt to forcibly remount, call drive.mount(\"/content/drive\", force_remount=True).\n"
          ]
        },
        {
          "output_type": "execute_result",
          "data": {
            "text/plain": [
              "['/content/drive/MyDrive/mufg/email_pipeline.pkl']"
            ]
          },
          "metadata": {},
          "execution_count": 29
        }
      ]
    },
    {
      "cell_type": "code",
      "source": [],
      "metadata": {
        "id": "tP47fJJACZA5"
      },
      "execution_count": null,
      "outputs": []
    }
  ]
}